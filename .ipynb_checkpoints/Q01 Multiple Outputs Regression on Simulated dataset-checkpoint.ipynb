{
 "cells": [
  {
   "cell_type": "markdown",
   "metadata": {},
   "source": [
    "# Multi Output Regression Model\n",
    "\n",
    "In this notebook you can find answers for the following questions:<br>\n",
    "Q01: How to develop linear and non-linear Machine Learning (ML) models?<br>\n",
    "Q02: How to train and test Machine Learning model?<br>\n",
    "Q03: How to implement an optimisation technique on trained ML model?<br>\n",
    "\n",
    "### Next steps\n",
    "* Learn about K-fold [cross-validation](https://scikit-learn.org/stable/modules/cross_validation.html).\n",
    "* Hyper parameters of the ML models are set to default. In sklearn hyper parameters can be fine tuned using [Grid Search](https://scikit-learn.org/stable/modules/generated/sklearn.model_selection.GridSearchCV.html#sklearn.model_selection.GridSearchCV), Random Search, Bayesian Optimization, and Genetic Algorithms.\n",
    "* Explore evaluation metrics for regression models like MSE, RMSE, MAE, MPE, R2, etc.\n",
    "* There are many other machine learning models available in [sklearn](https://scikit-learn.org/stable/index.html) such as [SGD](https://scikit-learn.org/stable/modules/generated/sklearn.linear_model.SGDRegressor.html#sklearn.linear_model.SGDRegressor), [Polynomial Regession](https://scikit-learn.org/stable/modules/linear_model.html#polynomial-regression-extending-linear-models-with-basis-functions), [Multi Output Regressor](https://scikit-learn.org/stable/modules/generated/sklearn.multioutput.MultiOutputRegressor.html#sklearn.multioutput.MultiOutputRegressor), [Regressor Chain](https://scikit-learn.org/stable/modules/generated/sklearn.multioutput.RegressorChain.html#sklearn.multioutput.RegressorChain), and many more.\n",
    "* Supervised Learning methods in python is not limited to sklearn library, other popular libraries are SkLearn-rvm, PyCaret, and XgBoost.\n",
    "* Regression model can also trained using Artifical Neural Networks (ANN) using libraries such as PyTorch, Keras, Caffe, and Tensorflow."
   ]
  },
  {
   "cell_type": "code",
   "execution_count": 72,
   "metadata": {},
   "outputs": [
    {
     "name": "stdout",
     "output_type": "stream",
     "text": [
      "sklearn version: 0.22.1\n"
     ]
    }
   ],
   "source": [
    "# Importing essential python libraries\n",
    "import sklearn\n",
    "from sklearn.metrics import mean_squared_error\n",
    "print(\"sklearn version:\",sklearn.__version__)"
   ]
  },
  {
   "cell_type": "code",
   "execution_count": 24,
   "metadata": {
    "scrolled": true
   },
   "outputs": [
    {
     "name": "stdout",
     "output_type": "stream",
     "text": [
      "shape of input: (1000, 3) shape of output: (1000, 3)\n"
     ]
    }
   ],
   "source": [
    "# Generate randam dataset with three inputs and three outputs.\n",
    "from sklearn.datasets import make_regression\n",
    "X, y = make_regression(n_samples = 1000, n_features = 3, n_informative = 5, n_targets = 3,\n",
    "                                   random_state = 101, noise = 0.5)\n",
    "print('shape of input: {} shape of output: {}'.format(X.shape, y.shape))"
   ]
  },
  {
   "cell_type": "code",
   "execution_count": 58,
   "metadata": {},
   "outputs": [
    {
     "name": "stdout",
     "output_type": "stream",
     "text": [
      "X_train:(700, 3) X_test:(300, 3) y_train:(700, 3) y_test:(300, 3)\n"
     ]
    }
   ],
   "source": [
    "# Splitting the dataset into 70% training and 30% test set.\n",
    "from sklearn.model_selection import train_test_split\n",
    "X_train, X_test, y_train, y_test = train_test_split(X, y, test_size=0.30, random_state=42)\n",
    "print(\"X_train:{} X_test:{} y_train:{} y_test:{}\".format(X_train.shape, X_test.shape, y_train.shape, y_test.shape))"
   ]
  },
  {
   "cell_type": "markdown",
   "metadata": {},
   "source": [
    "### ML models\n",
    "\n",
    "[Least Squares Linear Regression](https://scikit-learn.org/stable/modules/linear_model.html#ordinary-least-squares)<br>\n",
    "[K-Nearest Neighbors](https://scikit-learn.org/stable/modules/generated/sklearn.neighbors.KNeighborsRegressor.html#sklearn.neighbors.KNeighborsRegressor)<br>\n",
    "[Decision Tree Regressor](https://scikit-learn.org/stable/modules/generated/sklearn.tree.DecisionTreeRegressor.html#sklearn.tree.DecisionTreeRegressor)<br>\n",
    "[Random Forest Regressor]()<br>\n",
    "[Support Vector Machines](https://scikit-learn.org/stable/modules/generated/sklearn.svm.SVR.html#sklearn.svm.SVR)<br>\n",
    "[Multi-layer Perceptron](https://scikit-learn.org/stable/modules/generated/sklearn.neural_network.MLPRegressor.html#sklearn.neural_network.MLPRegressor)<br>"
   ]
  },
  {
   "cell_type": "code",
   "execution_count": 74,
   "metadata": {},
   "outputs": [
    {
     "name": "stdout",
     "output_type": "stream",
     "text": [
      "[[83.83430665 17.65346858 96.1039743 ]\n",
      " [80.72696737 15.23719827 17.68445124]\n",
      " [27.51565193  5.85102339 20.44691219]] [ 0.04021606 -0.03343436  0.0383187 ]\n"
     ]
    },
    {
     "name": "stderr",
     "output_type": "stream",
     "text": [
      "C:\\Users\\HP USER\\Anaconda3\\lib\\site-packages\\sklearn\\base.py:434: FutureWarning: The default value of multioutput (not exposed in score method) will change from 'variance_weighted' to 'uniform_average' in 0.23 to keep consistent with 'metrics.r2_score'. To specify the default value manually and avoid the warning, please either call 'metrics.r2_score' directly or make a custom scorer with 'metrics.make_scorer' (the built-in scorer 'r2' uses multioutput='uniform_average').\n",
      "  \"multioutput='uniform_average').\", FutureWarning)\n"
     ]
    }
   ],
   "source": [
    "# Linear Regression model\n",
    "from sklearn.linear_model import LinearRegression\n",
    "acc, mse = list(), list()\n",
    "LR = LinearRegression().fit(X_train, y_train)\n",
    "y_pred = LR.predict(X_test)\n",
    "acc.append(LR.score(X_test, y_test))\n",
    "mse.append(mean_squared_error(y_test, y_pred))"
   ]
  },
  {
   "cell_type": "code",
   "execution_count": 75,
   "metadata": {},
   "outputs": [
    {
     "name": "stderr",
     "output_type": "stream",
     "text": [
      "C:\\Users\\HP USER\\Anaconda3\\lib\\site-packages\\sklearn\\base.py:434: FutureWarning: The default value of multioutput (not exposed in score method) will change from 'variance_weighted' to 'uniform_average' in 0.23 to keep consistent with 'metrics.r2_score'. To specify the default value manually and avoid the warning, please either call 'metrics.r2_score' directly or make a custom scorer with 'metrics.make_scorer' (the built-in scorer 'r2' uses multioutput='uniform_average').\n",
      "  \"multioutput='uniform_average').\", FutureWarning)\n"
     ]
    }
   ],
   "source": [
    "# K-Nearest Neighbors \n",
    "from sklearn.neighbors import KNeighborsRegressor\n",
    "KNN = KNeighborsRegressor().fit(X_train, y_train)\n",
    "y_pred = KNN.predict(X_test)\n",
    "acc.append(KNN.score(X_test, y_test))\n",
    "mse.append(mean_squared_error(y_test, y_pred))\n",
    "# print(KNN.kneighbors())"
   ]
  },
  {
   "cell_type": "code",
   "execution_count": 76,
   "metadata": {},
   "outputs": [
    {
     "name": "stderr",
     "output_type": "stream",
     "text": [
      "C:\\Users\\HP USER\\Anaconda3\\lib\\site-packages\\sklearn\\base.py:434: FutureWarning: The default value of multioutput (not exposed in score method) will change from 'variance_weighted' to 'uniform_average' in 0.23 to keep consistent with 'metrics.r2_score'. To specify the default value manually and avoid the warning, please either call 'metrics.r2_score' directly or make a custom scorer with 'metrics.make_scorer' (the built-in scorer 'r2' uses multioutput='uniform_average').\n",
      "  \"multioutput='uniform_average').\", FutureWarning)\n"
     ]
    }
   ],
   "source": [
    "# Decision Tree\n",
    "from sklearn.tree import DecisionTreeRegressor\n",
    "DT = DecisionTreeRegressor().fit(X_train, y_train)\n",
    "y_pred = DT.predict(X_test)\n",
    "acc.append(DT.score(X_test, y_test))\n",
    "mse.append(mean_squared_error(y_test, y_pred))"
   ]
  },
  {
   "cell_type": "code",
   "execution_count": 77,
   "metadata": {},
   "outputs": [
    {
     "name": "stderr",
     "output_type": "stream",
     "text": [
      "C:\\Users\\HP USER\\Anaconda3\\lib\\site-packages\\sklearn\\base.py:434: FutureWarning: The default value of multioutput (not exposed in score method) will change from 'variance_weighted' to 'uniform_average' in 0.23 to keep consistent with 'metrics.r2_score'. To specify the default value manually and avoid the warning, please either call 'metrics.r2_score' directly or make a custom scorer with 'metrics.make_scorer' (the built-in scorer 'r2' uses multioutput='uniform_average').\n",
      "  \"multioutput='uniform_average').\", FutureWarning)\n"
     ]
    }
   ],
   "source": [
    "# Random Forest\n",
    "from sklearn.ensemble import RandomForestRegressor\n",
    "RF = RandomForestRegressor().fit(X_train, y_train)\n",
    "y_pred = RF.predict(X_test)\n",
    "acc.append(RF.score(X_test, y_test))\n",
    "mse.append(mean_squared_error(y_test, y_pred))"
   ]
  },
  {
   "cell_type": "code",
   "execution_count": 78,
   "metadata": {},
   "outputs": [],
   "source": [
    "# Support Vector Machine\n",
    "from sklearn.svm import LinearSVR\n",
    "from sklearn.multioutput import MultiOutputRegressor\n",
    "SVR = LinearSVR()\n",
    "Mu_SVR = MultiOutputRegressor(SVR)\n",
    "Mu_SVR.fit(X_train, y_train)\n",
    "y_pred = Mu_SVR.predict(X_test)\n",
    "acc.append(Mu_SVR.score(X_test, y_test))\n",
    "mse.append(mean_squared_error(y_test, y_pred))"
   ]
  },
  {
   "cell_type": "code",
   "execution_count": 79,
   "metadata": {},
   "outputs": [
    {
     "name": "stderr",
     "output_type": "stream",
     "text": [
      "C:\\Users\\HP USER\\Anaconda3\\lib\\site-packages\\sklearn\\neural_network\\_multilayer_perceptron.py:571: ConvergenceWarning: Stochastic Optimizer: Maximum iterations (500) reached and the optimization hasn't converged yet.\n",
      "  % self.max_iter, ConvergenceWarning)\n",
      "C:\\Users\\HP USER\\Anaconda3\\lib\\site-packages\\sklearn\\base.py:434: FutureWarning: The default value of multioutput (not exposed in score method) will change from 'variance_weighted' to 'uniform_average' in 0.23 to keep consistent with 'metrics.r2_score'. To specify the default value manually and avoid the warning, please either call 'metrics.r2_score' directly or make a custom scorer with 'metrics.make_scorer' (the built-in scorer 'r2' uses multioutput='uniform_average').\n",
      "  \"multioutput='uniform_average').\", FutureWarning)\n"
     ]
    }
   ],
   "source": [
    "# Multi-layer Perceptron\n",
    "from sklearn.neural_network import MLPRegressor\n",
    "MLP = MLPRegressor(random_state=1, max_iter=500).fit(X_train, y_train)\n",
    "y_pred = MLP.predict(X_test)\n",
    "acc.append(MLP.score(X_test, y_test))\n",
    "mse.append(mean_squared_error(y_test, y_pred))"
   ]
  },
  {
   "cell_type": "code",
   "execution_count": 107,
   "metadata": {},
   "outputs": [
    {
     "data": {
      "text/plain": [
       "[<matplotlib.lines.Line2D at 0x1dca883fe08>]"
      ]
     },
     "execution_count": 107,
     "metadata": {},
     "output_type": "execute_result"
    },
    {
     "data": {
      "image/png": "[encoded data removed]",
      "text/plain": [
       "<Figure size 360x720 with 2 Axes>"
      ]
     },
     "metadata": {
      "needs_background": "light"
     },
     "output_type": "display_data"
    }
   ],
   "source": [
    "import matplotlib.pyplot as plt\n",
    "xlab = [\"LR\", \"KNN\", \"DT\", \"RF\", \"SVM\", \"MLP\"]\n",
    "plt.figure(figsize=(5,10))\n",
    "plt.subplot(2,1,1)\n",
    "plt.title(\"Test accuracy\")\n",
    "plt.plot(xlab,acc)\n",
    "plt.subplot(2,1,2)\n",
    "plt.title(\"Mean Squared Error\")\n",
    "plt.plot(xlab,mse)"
   ]
  },
  {
   "cell_type": "code",
   "execution_count": 128,
   "metadata": {},
   "outputs": [
    {
     "name": "stdout",
     "output_type": "stream",
     "text": [
      "Y: [[ 0.04021606 -0.03343436  0.0383187 ]]\n"
     ]
    }
   ],
   "source": [
    "# lets consider LR model as it has better performances\n",
    "X = [0.0, 0.0, 0.0] # X1, X2, X3\n",
    "print(\"Y:\",LR.predict([X])) # Y1, Y2, Y3"
   ]
  },
  {
   "cell_type": "code",
   "execution_count": 152,
   "metadata": {},
   "outputs": [
    {
     "name": "stdout",
     "output_type": "stream",
     "text": [
      "[[83.83430665 17.65346858 96.1039743 ]\n",
      " [80.72696737 15.23719827 17.68445124]\n",
      " [27.51565193  5.85102339 20.44691219]] [ 0.04021606 -0.03343436  0.0383187 ]\n"
     ]
    }
   ],
   "source": [
    "# Optimisation\n",
    "# I havn't found any relavent references to optimised Y values based on X values.\n",
    "# Linear Regreesion equation parameters\n",
    "print(LR.coef_, LR.intercept_)"
   ]
  },
  {
   "cell_type": "markdown",
   "metadata": {},
   "source": [
    "### *References*\n",
    "[1] [Machine Learning Mastery - How to Develop Multi-Output Regression Models with Python](https://machinelearningmastery.com/multi-output-regression-models-with-python/)<br>\n",
    "[2] [Tools for Sharing Jupyter Notebooks Online](https://towardsdatascience.com/tools-for-sharing-jupyter-notebooks-online-28c8d4ff821c#:~:text=Jupyter%20nbviewer%20is%20a%20tool,you%20can%20share%20with%20others.)"
   ]
  }
 ],
 "metadata": {
  "kernelspec": {
   "display_name": "Python 3",
   "language": "python",
   "name": "python3"
  },
  "language_info": {
   "codemirror_mode": {
    "name": "ipython",
    "version": 3
   },
   "file_extension": ".py",
   "mimetype": "text/x-python",
   "name": "python",
   "nbconvert_exporter": "python",
   "pygments_lexer": "ipython3",
   "version": "3.7.4"
  }
 },
 "nbformat": 4,
 "nbformat_minor": 4
}
